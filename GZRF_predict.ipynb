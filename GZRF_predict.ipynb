{
 "cells": [
  {
   "cell_type": "code",
   "execution_count": 1,
   "id": "11a0fbad-8a0e-47ed-bc33-bcfa61246952",
   "metadata": {},
   "outputs": [],
   "source": [
    "import pandas as pd\n",
    "#from sklearn.ensemble import RandomForestClassifier\n",
    "import joblib\n",
    "from joblib import dump\n",
    "from joblib import load\n",
    "import numpy as np\n",
    "import matplotlib.pyplot as plt\n",
    "from sklearn.ensemble import RandomForestRegressor\n",
    "from sklearn.model_selection import train_test_split\n",
    "from sklearn.multioutput import MultiOutputRegressor"
   ]
  },
  {
   "cell_type": "code",
   "execution_count": 75,
   "id": "a9a5eae4-daa4-4f69-b2c5-d07896cf23db",
   "metadata": {},
   "outputs": [
    {
     "name": "stdout",
     "output_type": "stream",
     "text": [
      "[[1.16348300e-03 0.00000000e+00 1.78524017e-01 ... 0.00000000e+00\n",
      "  0.00000000e+00 0.00000000e+00]\n",
      " [1.20163000e-03 1.19533540e-02 1.83849335e-01 ... 0.00000000e+00\n",
      "  0.00000000e+00 0.00000000e+00]\n",
      " [3.50952000e-04 1.13735200e-02 2.03884125e-01 ... 0.00000000e+00\n",
      "  0.00000000e+00 0.00000000e+00]\n",
      " ...\n",
      " [5.85556000e-04 3.49617000e-03 6.79105759e-01 ... 0.00000000e+00\n",
      "  0.00000000e+00 0.00000000e+00]\n",
      " [6.69841770e-02 9.21554570e-02 4.03747559e-01 ... 0.00000000e+00\n",
      "  0.00000000e+00 0.00000000e+00]\n",
      " [7.98416100e-03 4.95910000e-05 6.09088898e-01 ... 0.00000000e+00\n",
      "  0.00000000e+00 0.00000000e+00]]\n"
     ]
    }
   ],
   "source": [
    "# 读取未标识功能区类型的地块单元\n",
    "data_unknown = pd.read_csv('C:/Users/25231/Desktop/practice/Safe_Predict.csv',  encoding='utf-8')\n",
    "# x = data_unknown[['Id_0','Id_1', 'Id_2', 'Id_3', 'Id_4', 'Id_5', 'Id_6', 'Id_7', 'Id_8', 'Id_9',\n",
    "#                 'Id_10', 'Id_11', 'Id_12', 'Id_13', 'Id_14', 'Id_15', 'Id_16', 'Id_17', 'Id_18',\n",
    "#                 'Id_19', 'Id_20', 'Id_21', 'Id_22', 'Id_23', 'Id_24', 'Id_25', 'Id_26', 'Id_27',\n",
    "#                 'Id_28', 'Id_29', 'Id_30', 'Id_31', 'Id_32', 'Id_33', 'Id_34', 'Id_35', 'Id_36',\n",
    "#                 'Id_37', 'Id_38', 'Id_39', 'Id_40', 'Id_41', 'Id_42', 'Id_43', 'Id_44', 'Id_45',\n",
    "#                 'Id_46', 'Id_47', 'Id_48', 'Id_49', 'Id_50', 'Id_51', 'Id_52', 'Id_53', 'Id_54',\n",
    "#                 'Id_55', 'Id_56', 'Id_57', 'Id_58', 'Id_59', 'Id_60', 'Id_61', 'Id_62', 'Id_63',\n",
    "#                 'Id_64', 'Id_65', 'Id_66', 'Id_67', 'Id_68', 'Id_69', 'Id_70', 'Id_71', 'Id_72',\n",
    "#                 'Id_73', 'Id_74', 'Id_75', 'Id_76', 'Id_77', 'Id_78', 'Id_79', 'Id_80', 'Id_81',\n",
    "#                 'Id_82', 'Id_83', 'Id_84', 'Id_85', 'Id_86', 'Id_87', 'Id_88', 'Id_89', 'Id_90',\n",
    "#                 'Id_91', 'Id_92', 'Id_93', 'Id_94', 'Id_95', 'Id_96', 'Id_97', 'Id_98', 'Id_99',\n",
    "#                 'Id_100', 'Id_102', 'Id_103', 'Id_104', 'Id_105', 'Id_106', 'Id_107', 'Id_108', 'Id_109',\n",
    "#                 'Id_110', 'Id_112', 'Id_113', 'Id_114', 'Id_115', 'Id_116', 'Id_117', 'Id_118', 'Id_119',\n",
    "#                 'Id_120', 'Id_121', 'Id_122', 'Id_123', 'Id_124', 'Id_125', 'Id_126', 'Id_127', 'Id_128',\n",
    "#                 'Id_129', 'Id_130', 'Id_131', 'Id_132', 'Id_133', 'Id_134', 'Id_135', 'Id_136', 'Id_137',\n",
    "#                 'Id_138', 'Id_139', 'Id_140', 'Id_141', 'Id_142', 'Id_143', 'Id_144', 'Id_145', 'Id_146',\n",
    "#                 'Id_147', 'Id_148', 'Id_149', 'Id_150']]\n",
    "# x_predict = data_unknown.iloc[0:1, :].values\n",
    "x_predict = data_unknown.iloc[: , 1:152].values\n",
    "print(x_predict)\n",
    "# y_predict= data_unknown.iloc[1:, 1].values\n",
    "# print(y)"
   ]
  },
  {
   "cell_type": "code",
   "execution_count": 76,
   "id": "614d4886-691f-4e14-afd4-aace7bbd6e2b",
   "metadata": {},
   "outputs": [],
   "source": [
    "# 调用训练的随机森林模型进行功能区类型预测\n",
    "model_path = 'C:/Users/25231/Desktop/practice/Best_RF_wealth.model'\n",
    "model_rf = joblib.load(model_path)"
   ]
  },
  {
   "cell_type": "code",
   "execution_count": 77,
   "id": "2126d80f-b4aa-4020-879f-e48c22ae7c92",
   "metadata": {},
   "outputs": [
    {
     "name": "stdout",
     "output_type": "stream",
     "text": [
      "[50.48364788 51.27363152 49.6783815  45.31466167 45.31466167 47.22405075\n",
      " 53.23008649 45.74145103 49.01729643 46.31250379 53.23008649 46.443315\n",
      " 46.29566617 53.20335967 51.24420671 47.75058695 51.6324666  53.4652998\n",
      " 47.59186459 47.75058695 46.65994669 50.41258967 47.06578508 47.69155427\n",
      " 48.39838413 52.23961033 48.45533614 46.93760429 51.34201538 45.51892902\n",
      " 45.86734344 50.85045932 51.48832704 49.73024371 45.27597786 48.87454054\n",
      " 51.1541474  46.21692453 49.73024371 48.55941208 51.99776967 53.20158169\n",
      " 45.71431538 52.73595964 53.75999443 46.72218234 49.73024371 51.1896247\n",
      " 53.75999443 53.75999443 48.92082307 46.68868331 46.87300672 49.68380867\n",
      " 46.21692453 49.85611517 48.53651487 48.53651487 52.23739713 52.68716463\n",
      " 52.68716463 51.31013334 52.27097571 49.81328939 47.3449535  53.78277222\n",
      " 53.78277222 53.4334241  46.19889176 47.92315631 47.92315631 52.81993375\n",
      " 53.5926722  46.48481025 46.48481025 49.6241196  48.82334612 49.6241196\n",
      " 48.82334612 49.6241196  48.84542819 47.33870483 50.63720405 50.37250528\n",
      " 53.13578107 46.21692453 53.13578107 47.32714648 53.60173343 45.49066443\n",
      " 53.59529147 52.62705382 49.67918941 48.07422724 48.45521631 53.04767434\n",
      " 53.59529147 48.02986857 52.02689125 49.73024371]\n"
     ]
    }
   ],
   "source": [
    "#data_unknown[['score']] = model_rf.predict(x_predict) # y为'numpy.ndarray'类型\n",
    "y = model_rf.predict(x_predict)  # y为'numpy.ndarray'类型\n",
    "print(y)"
   ]
  },
  {
   "cell_type": "code",
   "execution_count": 81,
   "id": "eb9990f1-33bd-41b2-b0cb-6f35c782c6df",
   "metadata": {},
   "outputs": [],
   "source": [
    "y_df=pd.DataFrame(y)  # 将numpy数组转换为pandas数据框"
   ]
  },
  {
   "cell_type": "code",
   "execution_count": 83,
   "id": "04ecffaf-856a-4e95-bd39-94e63ea4e334",
   "metadata": {},
   "outputs": [
    {
     "name": "stdout",
     "output_type": "stream",
     "text": [
      "输出成功\n"
     ]
    }
   ],
   "source": [
    "y_df.to_csv('C:/Users/25231/Desktop/practice/Result.csv', index=False,encoding='utf-8') #将数据保存为CSV文件\n",
    "print(\"输出成功\")"
   ]
  },
  {
   "cell_type": "code",
   "execution_count": null,
   "id": "ac3acf98-92bb-4c2e-913e-6062348b020a",
   "metadata": {},
   "outputs": [],
   "source": []
  }
 ],
 "metadata": {
  "kernelspec": {
   "display_name": "Python 3 (ipykernel)",
   "language": "python",
   "name": "python3"
  },
  "language_info": {
   "codemirror_mode": {
    "name": "ipython",
    "version": 3
   },
   "file_extension": ".py",
   "mimetype": "text/x-python",
   "name": "python",
   "nbconvert_exporter": "python",
   "pygments_lexer": "ipython3",
   "version": "3.11.4"
  }
 },
 "nbformat": 4,
 "nbformat_minor": 5
}
